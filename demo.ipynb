{
 "cells": [
  {
   "attachments": {},
   "cell_type": "markdown",
   "metadata": {},
   "source": [
    "In this demo, we demonstrate how to use the MaxEnt_Reg script. We will be going over how to do the following:\n",
    "\n",
    "1. Reading in the MaxEnt data and constraint information\n",
    "2. Running the model using different gradient descent techniques (without regularization)\n",
    "3. How to add regularization \n",
    "    * Target prior ```TGTPrior``` \n",
    "    * Difference prior ```DIFPrior```"
   ]
  },
  {
   "cell_type": "code",
   "execution_count": 1,
   "metadata": {},
   "outputs": [],
   "source": [
    "## Good old NumPy\n",
    "import numpy as np\n",
    "\n",
    "## Specialized classes\n",
    "from utils.MaxEnt import MaxEnt, compute_probabilities\n",
    "from utils.Regularization import TGTPrior, DIFPrior\n",
    "\n",
    "## Utility function for reading in constraint and data information\n",
    "from utils.OTSoft_file_reader import get_info\n"
   ]
  },
  {
   "attachments": {},
   "cell_type": "markdown",
   "metadata": {},
   "source": [
    "Below is a helper function to record the model's predictions on both observed and held-out data"
   ]
  },
  {
   "cell_type": "code",
   "execution_count": 2,
   "metadata": {},
   "outputs": [],
   "source": [
    "import csv\n",
    "\n",
    "def prob_prediction_to_csv(file_name, underlying_forms, candidates, violations, weights):\n",
    "    with open(file_name, \"w\", newline=\"\") as file:\n",
    "        writer = csv.writer(file)\n",
    "        writer.writerow([\"UR/Candidate\", \"Probability\"])\n",
    "        for t, vio in enumerate(violations):\n",
    "            P = compute_probabilities(weights.squeeze(), vio)\n",
    "            writer.writerow([underlying_forms[t]])\n",
    "            \n",
    "            for c, _ in enumerate(candidates[t]):\n",
    "                writer.writerow([candidates[t][c], f\"{round(P[c]*100, 1)}%\"])\n"
   ]
  },
  {
   "attachments": {},
   "cell_type": "markdown",
   "metadata": {},
   "source": [
    "For this demonstration, we will be looking at the Hayes Pseudo-Korean data"
   ]
  },
  {
   "cell_type": "code",
   "execution_count": 3,
   "metadata": {},
   "outputs": [
    {
     "name": "stdout",
     "output_type": "stream",
     "text": [
      "Constraint names and their initial weights:\n",
      "Ident (asp)          3.36\n",
      "Ident (voice)        1.16\n",
      "Ident (asp)/_V       3.77\n",
      "Ident (voice)/_V     5.53\n",
      "*[+v][-v][+v]        2.01\n",
      "*dh                  9.85\n",
      "*[-son/+voice]       0.9\n",
      "*aspiration          2.12\n",
      "\n"
     ]
    }
   ],
   "source": [
    "## Read in data and constraint information\n",
    "constraint_names, underlying_forms, candidates, violations, observed_probs = get_info(\n",
    "    \"toy_datasets/HayesPseudoKorean-RichBase.txt\"\n",
    ")\n",
    "\n",
    "## Initialize a MaxEnt object\n",
    "me = MaxEnt(constraint_names)\n",
    "\n",
    "## Print basic information\n",
    "print(f\"Constraint names and their initial weights:\")\n",
    "for cn in zip(constraint_names, me.cws):\n",
    "    print(f'{cn[0]:<20} {round(cn[1][0], 2)}')\n",
    "print()\n"
   ]
  },
  {
   "cell_type": "code",
   "execution_count": 4,
   "metadata": {},
   "outputs": [
    {
     "name": "stdout",
     "output_type": "stream",
     "text": [
      "Weights after learning:\n",
      "Ident (asp)          4.96\n",
      "Ident (voice)        3.49\n",
      "Ident (asp)/_V       4.71\n",
      "Ident (voice)/_V     5.65\n",
      "*[+v][-v][+v]        2.12\n",
      "*dh                  9.85\n",
      "*[-son/+voice]       3.02\n",
      "*aspiration          1.86\n",
      "\n",
      "Predicted probabilities saved to ./results/no_reg_pred.csv\n"
     ]
    }
   ],
   "source": [
    "## ======= WITHOUT ANY REGULARIZATION ============================================================\n",
    "new_weights, learning_history = me.SGD_learn(violations=violations, observed_prob=observed_probs)\n",
    "\n",
    "print(\"Weights after learning:\")\n",
    "for cn in zip(constraint_names, new_weights):\n",
    "    print(f'{cn[0]:<20} {round(cn[1][0], 2)}')\n",
    "print()\n",
    "\n",
    "file_name = \"results/no_reg_pred.csv\"\n",
    "prob_prediction_to_csv(file_name, underlying_forms, candidates, violations, new_weights)\n",
    "print(f\"Predicted probabilities saved to ./{file_name}\")"
   ]
  },
  {
   "cell_type": "code",
   "execution_count": 5,
   "metadata": {},
   "outputs": [
    {
     "name": "stdout",
     "output_type": "stream",
     "text": [
      "Weights after learning:\n",
      "Ident (asp)          1.69\n",
      "Ident (voice)        1.06\n",
      "Ident (asp)/_V       1.69\n",
      "Ident (voice)/_V     1.06\n",
      "*[+v][-v][+v]        10.01\n",
      "*dh                  10.0\n",
      "*[-son/+voice]       9.99\n",
      "*aspiration          9.31\n",
      "\n",
      "Predicted probabilities saved to ./results/TGT_pred.csv\n"
     ]
    }
   ],
   "source": [
    "## ======= M > F WITH TARGET PRIOR ============================================================\n",
    "cns = constraint_names\n",
    "grs = [\n",
    "    [\"Ident (asp)\", \"Ident (voice)\", \"Ident (asp)/_V\", \"Ident (voice)/_V\"], \n",
    "    [\"*[+v][-v][+v]\", \"*dh\", \"*[-son/+voice]\", \"*aspiration\"]\n",
    "]\n",
    "mus = [1, 10]\n",
    "sms = [1, 1]\n",
    "target_prior = TGTPrior(cns, grs, mus, sms)\n",
    "\n",
    "new_weights, learning_history = me.SGD_learn(violations, observed_probs, 1, 10000, 0.05, target_prior)\n",
    "\n",
    "print(\"Weights after learning:\")\n",
    "for cn in zip(cns, new_weights):\n",
    "    print(f'{cn[0]:<20} {round(cn[1][0], 2)}')\n",
    "print()\n",
    "\n",
    "file_name = \"results/TGT_pred.csv\"\n",
    "prob_prediction_to_csv(file_name, underlying_forms, candidates, violations, new_weights)\n",
    "print(f\"Predicted probabilities saved to ./{file_name}\")"
   ]
  },
  {
   "cell_type": "code",
   "execution_count": 6,
   "metadata": {},
   "outputs": [
    {
     "name": "stdout",
     "output_type": "stream",
     "text": [
      "Weights after learning:\n",
      "Ident (asp)          3.53\n",
      "Ident (voice)        1.52\n",
      "Ident (asp)/_V       3.82\n",
      "Ident (voice)/_V     4.76\n",
      "*[+v][-v][+v]        2.89\n",
      "*dh                  10.69\n",
      "*[-son/+voice]       2.83\n",
      "*aspiration          2.2\n",
      "\n",
      "Predicted probabilities saved to ./results/DIF_pred.csv\n"
     ]
    }
   ],
   "source": [
    "## ======= M > F WITH DIFFERENCE PRIOR ============================================================\n",
    "cns = constraint_names\n",
    "grs = [\n",
    "    [\"Ident (asp)\", \"Ident (voice)\", \"Ident (asp)/_V\", \"Ident (voice)/_V\"], \n",
    "    [\"*[+v][-v][+v]\", \"*dh\", \"*[-son/+voice]\", \"*aspiration\"]\n",
    "]\n",
    "mus = [5]\n",
    "sms = [3]\n",
    "cmp = [[1, 0]]\n",
    "diff_prior = DIFPrior(cns, grs, mus, sms, cmp)\n",
    "\n",
    "new_weights, learning_history = me.SGD_learn(violations, observed_probs, 1, 10000, 0.05, diff_prior)\n",
    "\n",
    "print(\"Weights after learning:\")\n",
    "for cn in zip(cns, new_weights):\n",
    "    print(f'{cn[0]:<20} {round(cn[1][0], 2)}')\n",
    "print()\n",
    "\n",
    "file_name = \"results/DIF_pred.csv\"\n",
    "prob_prediction_to_csv(file_name, underlying_forms, candidates, violations, new_weights)\n",
    "print(f\"Predicted probabilities saved to ./{file_name}\")"
   ]
  },
  {
   "cell_type": "code",
   "execution_count": 7,
   "metadata": {},
   "outputs": [
    {
     "name": "stdout",
     "output_type": "stream",
     "text": [
      "Weights after learning:\n",
      "Ident (asp)          2.18\n",
      "Ident (voice)        0.91\n",
      "Ident (asp)/_V       1.71\n",
      "Ident (voice)/_V     1.2\n",
      "*[+v][-v][+v]        2.86\n",
      "*dh                  4.43\n",
      "*[-son/+voice]       2.25\n",
      "*aspiration          0.86\n",
      "\n",
      "Predicted probabilities saved to ./results/DIF_TGT_pred.csv\n"
     ]
    }
   ],
   "source": [
    "## ======= M > F WITH DIFFERENCE PRIOR AND PRIOR TO MINIMIZE WEIGHTS ============================================================\n",
    "cns = constraint_names\n",
    "\n",
    "## DIF\n",
    "dgrs = [\n",
    "    [\"Ident (asp)\", \"Ident (voice)\", \"Ident (asp)/_V\", \"Ident (voice)/_V\"], \n",
    "    [\"*[+v][-v][+v]\", \"*dh\", \"*[-son/+voice]\", \"*aspiration\"]\n",
    "]\n",
    "dmus = [5]\n",
    "dsms = [5]\n",
    "dcmp = [[1, 0]]\n",
    "diff_prior = DIFPrior(cns, dgrs, dmus, dsms, dcmp)\n",
    "\n",
    "## TGT\n",
    "tgrs = [\n",
    "    [\"Ident (asp)\", \"Ident (voice)\", \"Ident (asp)/_V\", \"Ident (voice)/_V\", \n",
    "    \"*[+v][-v][+v]\", \"*dh\", \"*[-son/+voice]\", \"*aspiration\"\n",
    "    ]\n",
    "]\n",
    "tmus = [0]\n",
    "tsms = [10]\n",
    "target_prior = TGTPrior(cns, tgrs, tmus, tsms)\n",
    "\n",
    "new_weights, learning_history = me.SGD_learn(violations, observed_probs, 1, 10000, 0.05, diff_prior, target_prior)\n",
    "\n",
    "print(\"Weights after learning:\")\n",
    "for cn in zip(cns, new_weights):\n",
    "    print(f'{cn[0]:<20} {round(cn[1][0], 2)}')\n",
    "print()\n",
    "\n",
    "file_name = \"results/DIF_TGT_pred.csv\"\n",
    "prob_prediction_to_csv(file_name, underlying_forms, candidates, violations, new_weights)\n",
    "print(f\"Predicted probabilities saved to ./{file_name}\")"
   ]
  },
  {
   "cell_type": "code",
   "execution_count": 8,
   "metadata": {},
   "outputs": [
    {
     "name": "stdout",
     "output_type": "stream",
     "text": [
      "Weights after learning:\n",
      "Ident (asp)          2.81\n",
      "Ident (voice)        0.0\n",
      "Ident (asp)/_V       1.18\n",
      "Ident (voice)/_V     0.0\n",
      "*[+v][-v][+v]        6.86\n",
      "*dh                  6.89\n",
      "*[-son/+voice]       6.93\n",
      "*aspiration          3.67\n",
      "\n",
      "Predicted probabilities saved to ./results/DIF_pairwise_pred.csv\n"
     ]
    }
   ],
   "source": [
    "## ======= M > F WITH PAIRWISE DIFFERENCE PRIOR ============================================================\n",
    "cns = constraint_names\n",
    "grs = [\n",
    "    [\"Ident (asp)\", \"Ident (voice)\", \"Ident (asp)/_V\", \"Ident (voice)/_V\"], \n",
    "    [\"*[+v][-v][+v]\"], [\"*dh\"], [\"*[-son/+voice]\"], [\"*aspiration\"]\n",
    "]\n",
    "mus = [3, 3, 3, 3]\n",
    "sms = [3, 3, 3, 3]\n",
    "cmp = [[1, 0], [2, 0], [3, 0], [4, 0]]\n",
    "diff_prior = DIFPrior(cns, grs, mus, sms, cmp)\n",
    "\n",
    "## Perform learning with regularization and returns the final weights\n",
    "new_weights, learning_history = me.SGD_learn(violations, observed_probs, 1, 100000, 0.05, diff_prior)\n",
    "\n",
    "print(\"Weights after learning:\")\n",
    "for cn in zip(cns, new_weights):\n",
    "    print(f'{cn[0]:<20} {round(cn[1][0], 2)}')\n",
    "print()\n",
    "\n",
    "file_name = \"results/DIF_pairwise_pred.csv\"\n",
    "prob_prediction_to_csv(file_name, underlying_forms, candidates, violations, new_weights)\n",
    "print(f\"Predicted probabilities saved to ./{file_name}\")"
   ]
  },
  {
   "cell_type": "code",
   "execution_count": 9,
   "metadata": {},
   "outputs": [
    {
     "name": "stdout",
     "output_type": "stream",
     "text": [
      "Weights after learning:\n",
      "Ident (asp)          2.28\n",
      "Ident (voice)        5.27\n",
      "Ident (asp)/_V       8.27\n",
      "Ident (voice)/_V     11.27\n",
      "*[+v][-v][+v]        0.63\n",
      "*dh                  8.47\n",
      "*[-son/+voice]       1.66\n",
      "*aspiration          3.51\n",
      "\n",
      "Predicted probabilities saved to ./results/DIF_stepwise_pred.csv\n"
     ]
    }
   ],
   "source": [
    "## ======= M > F WITH STEPWISE DIFFERENCE PRIOR ============================================================\n",
    "cns = constraint_names\n",
    "grs = [\n",
    "    [\"Ident (asp)\"], [\"Ident (voice)\"], [\"Ident (asp)/_V\"], [\"Ident (voice)/_V\"], \n",
    "    [\"*[+v][-v][+v]\", \"*dh\", \"*[-son/+voice]\", \"*aspiration\"]\n",
    "]\n",
    "mus = [3, 3, 3, 3]\n",
    "sms = [1, 1, 1, 3]\n",
    "cmp = [[4, 3], [3, 2], [2, 1], [1, 0]]\n",
    "diff_prior = DIFPrior(cns, grs, mus, sms, cmp)\n",
    "\n",
    "## Perform learning with regularization and returns the final weights\n",
    "new_weights, learning_history = me.SGD_learn(violations, observed_probs, 1, 100000, 0.05, diff_prior)\n",
    "\n",
    "print(\"Weights after learning:\")\n",
    "for cn in zip(cns, new_weights):\n",
    "    print(f'{cn[0]:<20} {round(cn[1][0], 2)}')\n",
    "print()\n",
    "\n",
    "file_name = \"results/DIF_stepwise_pred.csv\"\n",
    "prob_prediction_to_csv(file_name, underlying_forms, candidates, violations, new_weights)\n",
    "print(f\"Predicted probabilities saved to ./{file_name}\")"
   ]
  }
 ],
 "metadata": {
  "kernelspec": {
   "display_name": "Python 3",
   "language": "python",
   "name": "python3"
  },
  "language_info": {
   "codemirror_mode": {
    "name": "ipython",
    "version": 3
   },
   "file_extension": ".py",
   "mimetype": "text/x-python",
   "name": "python",
   "nbconvert_exporter": "python",
   "pygments_lexer": "ipython3",
   "version": "3.11.1"
  },
  "orig_nbformat": 4
 },
 "nbformat": 4,
 "nbformat_minor": 2
}
