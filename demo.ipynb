{
 "cells": [
  {
   "attachments": {},
   "cell_type": "markdown",
   "metadata": {},
   "source": [
    "In this demo, we demonstrate how to use the MaxEnt_Reg script. We will be going over how to do the following:\n",
    "\n",
    "1. Reading in the MaxEnt data and constraint information\n",
    "2. Running the model using different gradient descent techniques (without regularization)\n",
    "3. How to add regularization (target prior ```TGTPrior``` vs. difference prior ```DIFPrior```)"
   ]
  },
  {
   "cell_type": "code",
   "execution_count": 4,
   "metadata": {},
   "outputs": [],
   "source": [
    "## Good old NumPy\n",
    "import numpy as np\n",
    "\n",
    "## Specialized classes\n",
    "from utils.MaxEnt import MaxEnt\n",
    "from utils.Regularization import TGTPrior, DIFPrior\n",
    "\n",
    "## Utility function for reading in constraint and data information\n",
    "from utils.OTSoft_file_reader import get_info\n"
   ]
  },
  {
   "attachments": {},
   "cell_type": "markdown",
   "metadata": {},
   "source": [
    "For this demonstration, we will be looking at the Hayes Pseudo-Korean data"
   ]
  },
  {
   "cell_type": "code",
   "execution_count": 5,
   "metadata": {},
   "outputs": [
    {
     "name": "stdout",
     "output_type": "stream",
     "text": [
      "Initial weights: [[0.30245549]\n",
      " [4.04179978]\n",
      " [9.41291646]\n",
      " [0.71998226]\n",
      " [6.67540665]\n",
      " [0.21998625]\n",
      " [4.25873865]\n",
      " [4.66374388]]\n"
     ]
    }
   ],
   "source": [
    "## Read in data and constraint information\n",
    "constraint_names, underlying_forms, candidates, violations, observed_probs = get_info(\n",
    "    \"toy_datasets/HayesPseudoKorean-RichBase.txt\"\n",
    ")\n",
    "\n",
    "## Initialize a MaxEnt object\n",
    "me = MaxEnt(constraint_names)\n",
    "\n",
    "print(f\"Initial weights: {me.cws}\")\n"
   ]
  },
  {
   "cell_type": "code",
   "execution_count": 6,
   "metadata": {},
   "outputs": [
    {
     "name": "stdout",
     "output_type": "stream",
     "text": [
      "Weights after learning: [[0.79169523]\n",
      " [4.59982931]\n",
      " [9.7173913 ]\n",
      " [1.27396174]\n",
      " [6.17693327]\n",
      " [0.74193051]\n",
      " [4.76444165]\n",
      " [4.54408798]]\n"
     ]
    }
   ],
   "source": [
    "## Perform learning without regularization and returns the final weights\n",
    "new_weights, learning_history = me.SGD_learn(violations=violations, observed_prob=observed_probs)\n",
    "\n",
    "print(f\"Weights after learning: {new_weights}\")\n"
   ]
  }
 ],
 "metadata": {
  "kernelspec": {
   "display_name": "Python 3",
   "language": "python",
   "name": "python3"
  },
  "language_info": {
   "codemirror_mode": {
    "name": "ipython",
    "version": 3
   },
   "file_extension": ".py",
   "mimetype": "text/x-python",
   "name": "python",
   "nbconvert_exporter": "python",
   "pygments_lexer": "ipython3",
   "version": "3.11.2"
  },
  "orig_nbformat": 4
 },
 "nbformat": 4,
 "nbformat_minor": 2
}
