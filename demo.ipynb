{
 "cells": [
  {
   "attachments": {},
   "cell_type": "markdown",
   "metadata": {},
   "source": [
    "In this demo, we demonstrate how to use the MaxEnt_Reg script. We will be going over how to do the following:\n",
    "\n",
    "1. Reading in the MaxEnt data and constraint information\n",
    "2. Running the model using different gradient descent techniques (without regularization)\n",
    "3. How to add regularization \n",
    "    * Target prior ```TGTPrior``` \n",
    "    * Difference prior ```DIFPrior```"
   ]
  },
  {
   "cell_type": "code",
   "execution_count": 1,
   "metadata": {},
   "outputs": [],
   "source": [
    "## Good old NumPy\n",
    "import numpy as np\n",
    "\n",
    "## Specialized classes\n",
    "from utils.MaxEnt import MaxEnt\n",
    "from utils.Regularization import TGTPrior, DIFPrior\n",
    "\n",
    "## Utility function for reading in constraint and data information\n",
    "from utils.OTSoft_file_reader import get_info\n"
   ]
  },
  {
   "attachments": {},
   "cell_type": "markdown",
   "metadata": {},
   "source": [
    "For this demonstration, we will be looking at the Hayes Pseudo-Korean data"
   ]
  },
  {
   "cell_type": "code",
   "execution_count": 2,
   "metadata": {},
   "outputs": [
    {
     "name": "stdout",
     "output_type": "stream",
     "text": [
      "Constraint names:\n",
      "Ident (asp)\n",
      "Ident (voice)\n",
      "Ident (asp)/_V\n",
      "Ident (voice)/_V\n",
      "*[+v][-v][+v]\n",
      "*dh\n",
      "*[-son/+voice]\n",
      "*aspiration\n",
      "\n",
      "Initial weights:\n",
      "[[2.36380107]\n",
      " [5.48127113]\n",
      " [6.5108408 ]\n",
      " [0.68091117]\n",
      " [1.39091299]\n",
      " [1.31031094]\n",
      " [9.20953316]\n",
      " [2.31205001]]\n"
     ]
    }
   ],
   "source": [
    "## Read in data and constraint information\n",
    "constraint_names, underlying_forms, candidates, violations, observed_probs = get_info(\n",
    "    \"toy_datasets/HayesPseudoKorean-RichBase.txt\"\n",
    ")\n",
    "\n",
    "## Print basic information\n",
    "print(f\"Constraint names:\")\n",
    "[print(cn) for cn in constraint_names]\n",
    "print()\n",
    "\n",
    "## Initialize a MaxEnt object\n",
    "me = MaxEnt(constraint_names)\n",
    "\n",
    "## Print initial weights to commandline\n",
    "print(\"Initial weights:\")\n",
    "print(me.cws)\n"
   ]
  },
  {
   "cell_type": "code",
   "execution_count": 3,
   "metadata": {},
   "outputs": [
    {
     "name": "stdout",
     "output_type": "stream",
     "text": [
      "Weights after learning:\n",
      "[[2.71989246]\n",
      " [7.10322867]\n",
      " [6.60593825]\n",
      " [2.30285335]\n",
      " [3.01283685]\n",
      " [1.31040357]\n",
      " [7.58762799]\n",
      " [2.47908691]]\n",
      "\n"
     ]
    }
   ],
   "source": [
    "## Perform learning without regularization and returns the final weights\n",
    "new_weights, learning_history = me.SGD_learn(violations=violations, observed_prob=observed_probs)\n",
    "\n",
    "print(\"Weights after learning:\")\n",
    "print(new_weights)\n",
    "print()"
   ]
  },
  {
   "cell_type": "code",
   "execution_count": 4,
   "metadata": {},
   "outputs": [
    {
     "name": "stdout",
     "output_type": "stream",
     "text": [
      "Weights after learning:\n",
      "[[ 1.72752082]\n",
      " [ 1.05639917]\n",
      " [ 1.72751643]\n",
      " [ 1.05639502]\n",
      " [10.00461807]\n",
      " [10.        ]\n",
      " [ 9.99539051]\n",
      " [ 9.27249012]]\n",
      "\n"
     ]
    }
   ],
   "source": [
    "## M >> F\n",
    "cns = constraint_names\n",
    "grs = [\n",
    "    [\"Ident (asp)\", \"Ident (voice)\", \"Ident (asp)/_V\", \"Ident (voice)/_V\"], \n",
    "    [\"*[+v][-v][+v]\", \"*dh\", \"*[-son/+voice]\",\"*aspiration\"]\n",
    "]\n",
    "mus = [1, 10]\n",
    "sms = [1, 1]\n",
    "target_prior = TGTPrior(cns, grs, mus, sms)\n",
    "\n",
    "## Perform learning with regularization and returns the final weights\n",
    "new_weights, learning_history = me.SGD_learn(violations, observed_probs, 1, 10000, 0.05, target_prior)\n",
    "\n",
    "print(\"Weights after learning:\")\n",
    "print(new_weights)\n",
    "print()"
   ]
  },
  {
   "cell_type": "code",
   "execution_count": 5,
   "metadata": {},
   "outputs": [
    {
     "name": "stdout",
     "output_type": "stream",
     "text": [
      "Weights after learning:\n",
      "[[ 1.64473262]\n",
      " [ 1.05793692]\n",
      " [ 1.64472839]\n",
      " [ 1.05793287]\n",
      " [10.01228657]\n",
      " [10.        ]\n",
      " [ 9.98772151]\n",
      " [ 9.35527792]]\n",
      "\n"
     ]
    }
   ],
   "source": [
    "## M >> F TGT\n",
    "cns = constraint_names\n",
    "grs = [\n",
    "    [\"Ident (asp)\", \"Ident (voice)\", \"Ident (asp)/_V\", \"Ident (voice)/_V\"], \n",
    "    [\"*[+v][-v][+v]\", \"*dh\", \"*[-son/+voice]\",\"*aspiration\"]\n",
    "]\n",
    "mus = [1, 10]\n",
    "sms = [1, 1]\n",
    "target_prior = TGTPrior(cns, grs, mus, sms)\n",
    "\n",
    "## Perform learning with regularization and returns the final weights\n",
    "new_weights, learning_history = me.SGD_learn(violations, observed_probs, 1, 10000, 0.05, target_prior)\n",
    "\n",
    "print(\"Weights after learning:\")\n",
    "print(new_weights)\n",
    "print()"
   ]
  },
  {
   "cell_type": "code",
   "execution_count": 6,
   "metadata": {},
   "outputs": [
    {
     "name": "stdout",
     "output_type": "stream",
     "text": [
      "Weights after learning:\n",
      "[[2.78559214]\n",
      " [7.1322933 ]\n",
      " [6.68752525]\n",
      " [2.33191916]\n",
      " [2.80054785]\n",
      " [1.18972812]\n",
      " [7.55855812]\n",
      " [2.38141616]]\n",
      "\n"
     ]
    }
   ],
   "source": [
    "## M >> F DIF\n",
    "cns = constraint_names\n",
    "grs = [\n",
    "    [\"Ident (asp)\", \"Ident (voice)\", \"Ident (asp)/_V\", \"Ident (voice)/_V\"], \n",
    "    [\"*[+v][-v][+v]\", \"*dh\", \"*[-son/+voice]\",\"*aspiration\"]\n",
    "]\n",
    "mus = [5]\n",
    "sms = [3]\n",
    "msg = [[0, 1]]\n",
    "diff_prior = DIFPrior(cns, grs, mus, sms, msg)\n",
    "\n",
    "## Perform learning with regularization and returns the final weights\n",
    "new_weights, learning_history = me.SGD_learn(violations, observed_probs, 1, 10000, 0.05, diff_prior)\n",
    "\n",
    "print(\"Weights after learning:\")\n",
    "print(new_weights)\n",
    "print()"
   ]
  },
  {
   "cell_type": "code",
   "execution_count": 7,
   "metadata": {},
   "outputs": [
    {
     "name": "stdout",
     "output_type": "stream",
     "text": [
      "Weights after learning:\n",
      "[[13.78436011]\n",
      " [10.78980268]\n",
      " [ 7.80054205]\n",
      " [ 4.81631599]\n",
      " [ 0.        ]\n",
      " [ 0.        ]\n",
      " [ 0.        ]\n",
      " [ 0.        ]]\n",
      "\n"
     ]
    }
   ],
   "source": [
    "## M >> F DIF\n",
    "cns = constraint_names\n",
    "grs = [\n",
    "    [\"Ident (asp)\"], \n",
    "    [\"Ident (voice)\"], \n",
    "    [\"Ident (asp)/_V\"], \n",
    "    [\"Ident (voice)/_V\"], \n",
    "    [\"*[+v][-v][+v]\", \"*dh\", \"*[-son/+voice]\", \"*aspiration\"]\n",
    "]\n",
    "mus = [3, 3, 3, 5]\n",
    "sms = [1, 1, 1, 3]\n",
    "msg = [[0, 1], [1, 2], [2, 3], [3, 4]]\n",
    "diff_prior = DIFPrior(cns, grs, mus, sms, msg)\n",
    "\n",
    "## Perform learning with regularization and returns the final weights\n",
    "new_weights, learning_history = me.SGD_learn(violations, observed_probs, 1, 10000, 0.05, diff_prior)\n",
    "\n",
    "print(\"Weights after learning:\")\n",
    "print(new_weights)\n",
    "print()"
   ]
  }
 ],
 "metadata": {
  "kernelspec": {
   "display_name": "Python 3",
   "language": "python",
   "name": "python3"
  },
  "language_info": {
   "codemirror_mode": {
    "name": "ipython",
    "version": 3
   },
   "file_extension": ".py",
   "mimetype": "text/x-python",
   "name": "python",
   "nbconvert_exporter": "python",
   "pygments_lexer": "ipython3",
   "version": "3.11.1"
  },
  "orig_nbformat": 4
 },
 "nbformat": 4,
 "nbformat_minor": 2
}
