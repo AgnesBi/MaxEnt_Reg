{
 "cells": [
  {
   "attachments": {},
   "cell_type": "markdown",
   "metadata": {},
   "source": [
    "In this demo, we demonstrate how to use the MaxEnt_Reg script. We will be going over how to do the following:\n",
    "\n",
    "1. Reading in the MaxEnt data and constraint information\n",
    "2. Running the model using different gradient descent techniques (without regularization)\n",
    "3. How to add regularization (target prior ```TGTPrior``` vs. difference prior ```DIFPrior```)"
   ]
  },
  {
   "cell_type": "code",
   "execution_count": 1,
   "metadata": {},
   "outputs": [],
   "source": [
    "## Good old NumPy\n",
    "import numpy as np\n",
    "\n",
    "## Specialized classes\n",
    "from utils.MaxEnt import MaxEnt\n",
    "from utils.Regularization import TGTPrior, DIFPrior\n",
    "\n",
    "## Utility function for reading in constraint and data information\n",
    "from utils.OTSoft_file_reader import get_info"
   ]
  },
  {
   "attachments": {},
   "cell_type": "markdown",
   "metadata": {},
   "source": [
    "For this demonstration, we will be looking at the Hayes Pseudo-Korean data"
   ]
  },
  {
   "cell_type": "code",
   "execution_count": 2,
   "metadata": {},
   "outputs": [
    {
     "name": "stdout",
     "output_type": "stream",
     "text": [
      "Initial weights: [[4.65241285]\n",
      " [4.07502136]\n",
      " [8.64396225]\n",
      " [4.85672324]\n",
      " [8.68759323]\n",
      " [7.65453813]\n",
      " [4.87086596]\n",
      " [5.85800314]]\n"
     ]
    }
   ],
   "source": [
    "## Read in data and constraint information\n",
    "constraint_names, underlying_forms, candidates, violations, observed_probs = get_info(\"toy_datasets/HayesPseudoKorean-RichBase.txt\")\n",
    "\n",
    "## Initialize a MaxEnt object\n",
    "me = MaxEnt(constraint_names)\n",
    "\n",
    "print(f\"Initial weights: {me.cws}\")"
   ]
  },
  {
   "cell_type": "code",
   "execution_count": 3,
   "metadata": {},
   "outputs": [
    {
     "data": {
      "text/plain": [
       "array([[4.69566067],\n",
       "       [4.07954655],\n",
       "       [8.68633349],\n",
       "       [4.85707283],\n",
       "       [8.68749236],\n",
       "       [7.65463129],\n",
       "       [4.87518976],\n",
       "       [5.81650892]])"
      ]
     },
     "execution_count": 3,
     "metadata": {},
     "output_type": "execute_result"
    }
   ],
   "source": [
    "## Perform learning without regularization and returns the final weights\n",
    "me.SGD_learn(violations = violations, observed_prob = observed_probs)[0]"
   ]
  }
 ],
 "metadata": {
  "kernelspec": {
   "display_name": "Python 3",
   "language": "python",
   "name": "python3"
  },
  "language_info": {
   "codemirror_mode": {
    "name": "ipython",
    "version": 3
   },
   "file_extension": ".py",
   "mimetype": "text/x-python",
   "name": "python",
   "nbconvert_exporter": "python",
   "pygments_lexer": "ipython3",
   "version": "3.11.2"
  },
  "orig_nbformat": 4
 },
 "nbformat": 4,
 "nbformat_minor": 2
}
